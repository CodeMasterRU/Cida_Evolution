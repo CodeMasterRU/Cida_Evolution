{
 "cells": [
  {
   "cell_type": "code",
   "execution_count": 27,
   "metadata": {},
   "outputs": [
    {
     "name": "stdout",
     "output_type": "stream",
     "text": [
      "[['1990', '336 387', '2 100 000', '8 500 000'], ['1995', '939 400', '3 200 000', '18 600 000'], ['2000', '1 560 000', '2 900 000', '26 000 000'], ['2005', '1 830 000', '2 500 000', '28 500 000'], ['2010', '1 370 000', '2 200 000', '30 800 000'], ['2015', '1 030 000', '1 900 000', '34 400 000'], ['2021[39]', '650 000', '1 500 000', '38 400 000']]\n"
     ]
    }
   ],
   "source": [
    "# Imports\n",
    "import pandas as pd\n",
    "from selenium import webdriver\n",
    "from selenium import webdriver\n",
    "from webdriver_manager.chrome import ChromeDriverManager\n",
    "from selenium.webdriver.chrome.service import Service as ChromeService\n",
    "from selenium.webdriver.common.by import By\n",
    "import time\n",
    "\n",
    "globalTab = []\n",
    "\n",
    "def scrapping():\n",
    "    page_url = \"https://en.wikipedia.org/wiki/Epidemiology_of_HIV/AIDS\" \n",
    "    service = ChromeService(executable_path=ChromeDriverManager().install())\n",
    "    driver = webdriver.Chrome(service=service)\n",
    "    driver.get(page_url)\n",
    "    time.sleep(5)\n",
    "\n",
    "    all = driver.find_element(By.XPATH, '//table[@class=\"wikitable\"]')\n",
    "\n",
    "    rows = []\n",
    "    count = 0\n",
    "    for element in all.find_elements(By.XPATH, './/td'):\n",
    "        element_text = element.text\n",
    "        rows.append(element_text)\n",
    "        if count % 4 == 3:\n",
    "            globalTab.append(rows)\n",
    "            rows = []\n",
    "        count+=1\n",
    "    print(globalTab)    \n",
    "    df = pd.DataFrame(globalTab, columns=[\"year\", \"deaths_due_globally\", \"infection_incidence_rate\", \"infection_prevalence_rate\"])\n",
    "    df.to_excel(\"test.xlsx\", index = False)\n",
    "    driver.close()\n",
    "\n",
    "\n",
    "mydf = scrapping()"
   ]
  },
  {
   "cell_type": "code",
   "execution_count": 26,
   "metadata": {},
   "outputs": [
    {
     "name": "stdout",
     "output_type": "stream",
     "text": [
      "[0, 1, 2, 3, 0, 1, 2, 3, 0, 1, 2, 3]\n"
     ]
    }
   ],
   "source": [
    "numbers = [0, 1, 2, 3, 4, 5, 6, 7, 8, 9, 10, 11]\n",
    "mapped_numbers = list(map(lambda x: x % 4, numbers))\n",
    "print(mapped_numbers)\n"
   ]
  },
  {
   "cell_type": "code",
   "execution_count": null,
   "metadata": {},
   "outputs": [],
   "source": []
  }
 ],
 "metadata": {
  "kernelspec": {
   "display_name": "Python 3",
   "language": "python",
   "name": "python3"
  },
  "language_info": {
   "codemirror_mode": {
    "name": "ipython",
    "version": 3
   },
   "file_extension": ".py",
   "mimetype": "text/x-python",
   "name": "python",
   "nbconvert_exporter": "python",
   "pygments_lexer": "ipython3",
   "version": "3.11.2"
  },
  "orig_nbformat": 4
 },
 "nbformat": 4,
 "nbformat_minor": 2
}
