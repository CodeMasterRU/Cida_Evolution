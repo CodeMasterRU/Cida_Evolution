{
 "cells": [
  {
   "cell_type": "code",
   "execution_count": 8,
   "metadata": {},
   "outputs": [
    {
     "name": "stdout",
     "output_type": "stream",
     "text": [
      "                                  Country  Count_median       WHO Region\n",
      "0                                Viet Nam        6100.0  Western Pacific\n",
      "1                                Malaysia        2700.0  Western Pacific\n",
      "2                                Cambodia        2500.0  Western Pacific\n",
      "3                               Australia         500.0  Western Pacific\n",
      "4        Lao People's Democratic Republic         500.0  Western Pacific\n",
      "5                             Philippines         500.0  Western Pacific\n",
      "6                                Mongolia         100.0  Western Pacific\n",
      "7                             New Zealand         100.0  Western Pacific\n",
      "8                               Singapore         100.0  Western Pacific\n",
      "9                       Brunei Darussalam           NaN  Western Pacific\n",
      "10                                  China           NaN  Western Pacific\n",
      "11  Democratic People's Republic of Korea           NaN  Western Pacific\n",
      "12                                   Fiji           NaN  Western Pacific\n",
      "13                                  Japan           NaN  Western Pacific\n",
      "14                       Papua New Guinea           NaN  Western Pacific\n",
      "15                      Republic of Korea           NaN  Western Pacific\n"
     ]
    }
   ],
   "source": [
    "import matplotlib.pyplot as plt\n",
    "import pandas as pd\n",
    "\n",
    "df = pd.read_csv(\"../../csvs/no_of_deaths_by_country_clean.csv\", sep=',')\n",
    "df = df[['Count_median', 'Country', 'WHO Region', 'Year']]\n",
    "asia = df[df['WHO Region'] == 'Western Pacific']\n",
    "asia = asia[asia['Year'] == 2000]\n",
    "grouped_df = asia.groupby(['Country'])['Count_median'].median().reset_index()\n",
    "result = grouped_df.merge(df[['Country', 'WHO Region']].drop_duplicates(), on='Country')\n",
    "result = result.sort_values('Count_median', ascending=False).reset_index(drop=True)\n",
    "grouped_df.to_csv(\"asia.csv\", index=False)\n",
    "print(result)\n"
   ]
  },
  {
   "cell_type": "code",
   "execution_count": 1,
   "metadata": {},
   "outputs": [
    {
     "ename": "NameError",
     "evalue": "name 'pd' is not defined",
     "output_type": "error",
     "traceback": [
      "\u001b[1;31m---------------------------------------------------------------------------\u001b[0m",
      "\u001b[1;31mNameError\u001b[0m                                 Traceback (most recent call last)",
      "Cell \u001b[1;32mIn[1], line 2\u001b[0m\n\u001b[0;32m      1\u001b[0m \u001b[39mimport\u001b[39;00m \u001b[39mplotly\u001b[39;00m\u001b[39m.\u001b[39;00m\u001b[39mgraph_objects\u001b[39;00m \u001b[39mas\u001b[39;00m \u001b[39mgo\u001b[39;00m\n\u001b[1;32m----> 2\u001b[0m asia \u001b[39m=\u001b[39m pd\u001b[39m.\u001b[39mread_csv(\u001b[39m\"\u001b[39m\u001b[39m./asia_map.csv\u001b[39m\u001b[39m\"\u001b[39m, sep\u001b[39m=\u001b[39m\u001b[39m'\u001b[39m\u001b[39m,\u001b[39m\u001b[39m'\u001b[39m)\n\u001b[0;32m      4\u001b[0m countries \u001b[39m=\u001b[39m asia[\u001b[39m'\u001b[39m\u001b[39mCountry\u001b[39m\u001b[39m'\u001b[39m]\n\u001b[0;32m      5\u001b[0m count_median \u001b[39m=\u001b[39m asia[\u001b[39m'\u001b[39m\u001b[39mCount_median\u001b[39m\u001b[39m'\u001b[39m]\n",
      "\u001b[1;31mNameError\u001b[0m: name 'pd' is not defined"
     ]
    }
   ],
   "source": [
    "import plotly.graph_objects as go\n",
    "asia = pd.read_csv(\"./asia_map.csv\", sep=',')\n",
    "\n",
    "countries = asia['Country']\n",
    "count_median = asia['Count_median']\n",
    "\n",
    "\n",
    "\n",
    "# Create a dictionary of country names and their corresponding median counts\n",
    "data = dict(type='choropleth',\n",
    "            locations=countries,\n",
    "            locationmode='country names',\n",
    "            z=count_median,\n",
    "            colorscale='Viridis',\n",
    "            colorbar=dict(title='Median Count')\n",
    "           )\n",
    "\n",
    "# Define the layout of the map\n",
    "layout = dict(title='Median Count of Countries in Africa',\n",
    "              geo=dict(scope='asia')\n",
    "             )  \n",
    "\n",
    "# Create the map\n",
    "fig = go.Figure(data=[data], layout=layout)\n",
    "fig.update_layout(height=500, margin={\"r\":0,\"t\":0,\"l\":0,\"b\":0})\n",
    "fig.show()"
   ]
  },
  {
   "cell_type": "code",
   "execution_count": null,
   "metadata": {},
   "outputs": [],
   "source": []
  }
 ],
 "metadata": {
  "kernelspec": {
   "display_name": "Python 3",
   "language": "python",
   "name": "python3"
  },
  "language_info": {
   "codemirror_mode": {
    "name": "ipython",
    "version": 3
   },
   "file_extension": ".py",
   "mimetype": "text/x-python",
   "name": "python",
   "nbconvert_exporter": "python",
   "pygments_lexer": "ipython3",
   "version": "3.11.2"
  },
  "orig_nbformat": 4
 },
 "nbformat": 4,
 "nbformat_minor": 2
}
